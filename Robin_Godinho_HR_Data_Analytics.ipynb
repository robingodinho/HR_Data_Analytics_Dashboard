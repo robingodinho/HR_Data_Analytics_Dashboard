{
  "nbformat": 4,
  "nbformat_minor": 0,
  "metadata": {
    "colab": {
      "provenance": []
    },
    "kernelspec": {
      "name": "python3",
      "display_name": "Python 3"
    },
    "language_info": {
      "name": "python"
    }
  },
  "cells": [
    {
      "cell_type": "markdown",
      "source": [
        "#HR Analtyics Project code - INST627: Analytics for Information Professionals\n",
        "\n",
        "by: Robin Godinho\n",
        "\n",
        "The following code was used to derive key statistical insights on the HR dataset used in the Data Analytics final project."
      ],
      "metadata": {
        "id": "7ryCCgKTLdye"
      }
    },
    {
      "cell_type": "code",
      "source": [
        "import pandas as pd\n",
        "import math\n",
        "import scipy.stats as stats\n",
        "import matplotlib.pyplot as plt\n",
        "import numpy as np\n",
        "import random\n",
        "hr = pd.read_excel('/content/HR Data.xlsx')\n",
        "print(hr.shape)"
      ],
      "metadata": {
        "id": "TMnOFkOFipSi",
        "colab": {
          "base_uri": "https://localhost:8080/"
        },
        "outputId": "81d93148-ccef-4c3f-eae9-80091b0a82a8"
      },
      "execution_count": 1,
      "outputs": [
        {
          "output_type": "stream",
          "name": "stdout",
          "text": [
            "(1470, 41)\n"
          ]
        }
      ]
    },
    {
      "cell_type": "code",
      "source": [
        "hr.head()"
      ],
      "metadata": {
        "id": "mauyzS4YpBn2"
      },
      "execution_count": null,
      "outputs": []
    },
    {
      "cell_type": "code",
      "source": [
        "print(hr.columns)"
      ],
      "metadata": {
        "id": "WnAKZAVX-1cc",
        "colab": {
          "base_uri": "https://localhost:8080/"
        },
        "outputId": "e061bfa3-22e0-40f0-c651-a777e9078925"
      },
      "execution_count": null,
      "outputs": [
        {
          "output_type": "stream",
          "name": "stdout",
          "text": [
            "Index(['Attrition', 'Business Travel', 'CF_age band', 'CF_attrition label',\n",
            "       'Department', 'Education Field', 'emp no', 'Employee Number', 'Gender',\n",
            "       'Job Role', 'Marital Status', 'Over Time', 'Over18',\n",
            "       'Training Times Last Year', '-2', '0', 'Age', 'CF_current Employee',\n",
            "       'Daily Rate', 'Distance From Home', 'Education', 'Employee Count',\n",
            "       'Environment Satisfaction', 'Hourly Rate', 'Job Involvement',\n",
            "       'Job Level', 'Job Satisfaction', 'Monthly Income', 'Monthly Rate',\n",
            "       'Num Companies Worked', 'Percent Salary Hike', 'Performance Rating',\n",
            "       'Relationship Satisfaction', 'Standard Hours', 'Stock Option Level',\n",
            "       'Total Working Years', 'Work Life Balance', 'Years At Company',\n",
            "       'Years In Current Role', 'Years Since Last Promotion',\n",
            "       'Years With Curr Manager'],\n",
            "      dtype='object')\n"
          ]
        }
      ]
    },
    {
      "cell_type": "markdown",
      "source": [
        "# Data overview\n",
        "\n",
        "\n"
      ],
      "metadata": {
        "id": "ih3FkXkamauy"
      }
    },
    {
      "cell_type": "markdown",
      "source": [
        "Gender Analysis"
      ],
      "metadata": {
        "id": "uGQSg6W1pG9s"
      }
    },
    {
      "cell_type": "code",
      "source": [
        "Female = hr['Gender'].value_counts()['Female']\n",
        "print(f'The number of female employees in the company is {Female}')\n",
        "\n",
        "Male = hr['Gender'].value_counts()['Male']\n",
        "print(f'The number of Male employees in the company is {Male}')\n",
        "\n",
        "Total = Female + Male\n",
        "Total\n",
        "\n",
        "Female_percentage = Female/Total*100\n",
        "print(f'The females in the company is {Female_percentage}%')\n",
        "\n",
        "Male_pecentage = Male/Total*100\n",
        "print(f'The males in the company is {Male_pecentage}%')\n",
        "\n",
        "hr['Gender'].hist()\n"
      ],
      "metadata": {
        "id": "54fTeBRknPRZ"
      },
      "execution_count": null,
      "outputs": []
    },
    {
      "cell_type": "markdown",
      "source": [
        "Education Anaylsis"
      ],
      "metadata": {
        "id": "iwXIJ_GqpygF"
      }
    },
    {
      "cell_type": "code",
      "source": [
        "# Different levels of Education\n",
        "Associates = hr['Education'].value_counts()[\"Associates Degree\"]\n",
        "print(f'The number of employees with a Associates degree is {Associates}')\n",
        "\n",
        "Bachelors = hr['Education'].value_counts()[\"Bachelor's Degree\"]\n",
        "print(f'The number of employees with a Bachelors degree is {Bachelors}')\n",
        "\n",
        "Masters = hr['Education'].value_counts()[\"Master's Degree\"]\n",
        "print(f'The number of employees with a Masters degree is {Masters}')\n",
        "\n",
        "Doctoral = hr['Education'].value_counts()[\"Doctoral Degree\"]\n",
        "print(f'The number of employees with a Doctoral degree is {Doctoral}')"
      ],
      "metadata": {
        "colab": {
          "base_uri": "https://localhost:8080/"
        },
        "id": "-S2BlEsxpyCR",
        "outputId": "2007f43b-3d5f-4187-b495-b30801fa9b2c"
      },
      "execution_count": null,
      "outputs": [
        {
          "output_type": "stream",
          "name": "stdout",
          "text": [
            "The number of employees with a Associates degree is 282\n",
            "The number of employees with a Bachelors degree is 572\n",
            "The number of employees with a Masters degree is 398\n",
            "The number of employees with a Doctoral degree is 48\n"
          ]
        }
      ]
    },
    {
      "cell_type": "markdown",
      "source": [
        "# Attrition Analysis"
      ],
      "metadata": {
        "id": "XU_ceTjbnc6G"
      }
    },
    {
      "cell_type": "markdown",
      "source": [
        "Attrition Rate by Gender"
      ],
      "metadata": {
        "id": "zEQ-xcOPpJPw"
      }
    },
    {
      "cell_type": "code",
      "source": [
        "attrition_yes = hr[hr['Attrition'] == 'Yes']\n",
        "\n",
        "# Count the number of employees for each gender with Attrition 'Yes'\n",
        "attrition_yes_count_by_gender = attrition_yes['Gender'].value_counts().reset_index()\n",
        "attrition_yes_count_by_gender.columns = ['Gender', 'Count']\n",
        "\n",
        "print(attrition_yes_count_by_gender)\n"
      ],
      "metadata": {
        "colab": {
          "base_uri": "https://localhost:8080/"
        },
        "id": "FuEhYokwpUts",
        "outputId": "2a323648-9aa0-4fa9-ba41-93284aed1f79"
      },
      "execution_count": null,
      "outputs": [
        {
          "output_type": "stream",
          "name": "stdout",
          "text": [
            "   Gender  Count\n",
            "0    Male    150\n",
            "1  Female     87\n"
          ]
        }
      ]
    },
    {
      "cell_type": "markdown",
      "source": [
        "Attrition rate by department"
      ],
      "metadata": {
        "id": "JuoBe_5wq5wx"
      }
    },
    {
      "cell_type": "code",
      "source": [
        "attrition_yes_count_by_department = attrition_yes['Department'].value_counts().reset_index()\n",
        "attrition_yes_count_by_department.columns = ['Department', 'Count']\n",
        "\n",
        "print(attrition_yes_count_by_department)"
      ],
      "metadata": {
        "colab": {
          "base_uri": "https://localhost:8080/"
        },
        "id": "fI5WGYLXrPW4",
        "outputId": "d78801cd-462a-4dce-9854-e1b1c52ac312"
      },
      "execution_count": null,
      "outputs": [
        {
          "output_type": "stream",
          "name": "stdout",
          "text": [
            "  Department  Count\n",
            "0        R&D    133\n",
            "1      Sales     92\n",
            "2         HR     12\n"
          ]
        }
      ]
    },
    {
      "cell_type": "markdown",
      "source": [
        "Attrition by job satisfaction score"
      ],
      "metadata": {
        "id": "sFlQytV7l7GV"
      }
    },
    {
      "cell_type": "code",
      "source": [
        "attrition_yes_count_by_satisfaction = attrition_yes['Job Satisfaction'].value_counts().reset_index()\n",
        "attrition_yes_count_by_satisfaction.columns = ['Job Satisfaction', 'Count']\n",
        "\n",
        "print(attrition_yes_count_by_satisfaction)"
      ],
      "metadata": {
        "colab": {
          "base_uri": "https://localhost:8080/"
        },
        "id": "2w3WMHdamGd_",
        "outputId": "f3bb3354-aa1e-48cd-def1-3ae3e8037be4"
      },
      "execution_count": null,
      "outputs": [
        {
          "output_type": "stream",
          "name": "stdout",
          "text": [
            "   Job Satisfaction  Count\n",
            "0                 3     73\n",
            "1                 1     66\n",
            "2                 4     52\n",
            "3                 2     46\n"
          ]
        }
      ]
    },
    {
      "cell_type": "markdown",
      "source": [
        "Income Analysis\n",
        "\n",
        "Calculate count, mean, standard deviation, variance, IQR, median, max, min for 'Monthly Income.'\n",
        "\n",
        "\n",
        "\n"
      ],
      "metadata": {
        "id": "J8zfXHJde7QT"
      }
    },
    {
      "cell_type": "code",
      "source": [
        "\n",
        "print('count:', hr['Monthly Income'].count())\n",
        "print('mean: ', hr['Monthly Income'].mean())\n",
        "print('std:  ', hr['Monthly Income'].std())\n",
        "print('var:  ', hr['Monthly Income'].var())\n",
        "print('IQR:  ', hr['Monthly Income'].quantile(0.75) - hr['Monthly Income'].quantile(0.25))\n",
        "print('median:  ', hr['Monthly Income'].median())\n",
        "print('max:  ', hr['Monthly Income'].max())\n",
        "print('min:  ', hr['Monthly Income'].min())\n",
        "\n",
        "#Monthly payments\n",
        "# count: 1470 payments\n",
        "# mean:  $6502.93\n",
        "# IQR:   $5468.0\n",
        "# median: $4919.0\n",
        "# max:   $19999\n",
        "# min:   $1009\n",
        "# std:   $4707.95\n",
        "# var:   22164857.07"
      ],
      "metadata": {
        "id": "iog7KO2FY_sf"
      },
      "execution_count": null,
      "outputs": []
    },
    {
      "cell_type": "code",
      "source": [
        "# Boxplot of the Monthly Income\n",
        "hr['Monthly Income'].plot(kind = 'box', title = 'Boxplot of Monthly Income')\n",
        "plt.show()"
      ],
      "metadata": {
        "id": "gDh-Pcgw9DnM",
        "colab": {
          "base_uri": "https://localhost:8080/",
          "height": 452
        },
        "outputId": "ab7a425e-a92a-4a71-c5e8-b9d0d8a39a7a"
      },
      "execution_count": null,
      "outputs": [
        {
          "output_type": "display_data",
          "data": {
            "text/plain": [
              "<Figure size 640x480 with 1 Axes>"
            ],
            "image/png": "[encoded data removed]"
          },
          "metadata": {}
        }
      ]
    },
    {
      "cell_type": "code",
      "source": [
        "# Calculate the average monthly income for each gender.\n",
        "average_income_by_gender = hr.groupby('Gender')['Monthly Income'].mean()\n",
        "\n",
        "print(average_income_by_gender)"
      ],
      "metadata": {
        "colab": {
          "base_uri": "https://localhost:8080/"
        },
        "id": "gp6cYM1leTXK",
        "outputId": "25d828fe-325b-4fc1-b476-e5efff56ce48"
      },
      "execution_count": null,
      "outputs": [
        {
          "output_type": "stream",
          "name": "stdout",
          "text": [
            "Gender\n",
            "Female    6686.566327\n",
            "Male      6380.507937\n",
            "Name: Monthly Income, dtype: float64\n"
          ]
        }
      ]
    },
    {
      "cell_type": "markdown",
      "source": [
        "# T-test for monthly income based on Gender\n",
        "\n",
        "*Ho:* There is no significant difference in the monthly income based on the female and male gender.\n",
        "\n",
        "*HA:* There is a signficant difference in the monthly income based on the female and male gender.\n"
      ],
      "metadata": {
        "id": "v0fyK6_LKhFi"
      }
    },
    {
      "cell_type": "code",
      "source": [
        " # Extracting monthly income data for each gender\n",
        "from scipy.stats import ttest_ind\n",
        "male_income = hr[hr['Gender'] == 'Male']['Monthly Income']\n",
        "female_income = hr[hr['Gender'] == 'Female']['Monthly Income']\n",
        "\n",
        "# Performing an independent t-test\n",
        "t_stat, p_value = ttest_ind(male_income, female_income)\n",
        "print(f\"T-statistic: {t_stat}, P-value: {p_value}\")\n"
      ],
      "metadata": {
        "colab": {
          "base_uri": "https://localhost:8080/"
        },
        "id": "T-QsjjsKHQ5B",
        "outputId": "2f4c89ee-3e51-4c53-adeb-271394c6d360"
      },
      "execution_count": null,
      "outputs": [
        {
          "output_type": "stream",
          "name": "stdout",
          "text": [
            "T-statistic: -1.2212617308870655, P-value: 0.22218303455087898\n"
          ]
        }
      ]
    },
    {
      "cell_type": "markdown",
      "source": [
        "Since the p-value of 0.22218303455 is much higher than the standard cofidence level of 0.05, we fail to reject the null hypothesis that there is no significant difference between the male and female gender based on their monthly income. There is insufficient evidence in support of the alternative hypthoesis that the diffence is proportion is statistically significant."
      ],
      "metadata": {
        "id": "96JZPmrUK0UK"
      }
    },
    {
      "cell_type": "markdown",
      "source": [
        "Basic Data Analysis"
      ],
      "metadata": {
        "id": "Gt48lrSr-wBv"
      }
    },
    {
      "cell_type": "code",
      "source": [
        "hr.describe"
      ],
      "metadata": {
        "id": "D7Fl6hRBGMsR"
      },
      "execution_count": null,
      "outputs": []
    },
    {
      "cell_type": "code",
      "source": [
        "# Dictionary of all the columns arranaged by indices\n",
        "dict(zip(hr.columns, range(len(hr.columns))))"
      ],
      "metadata": {
        "id": "VJ6_M8Bl0Jaw"
      },
      "execution_count": null,
      "outputs": []
    },
    {
      "cell_type": "markdown",
      "source": [
        "# Filtering on both the indices AND the columns\n",
        "\n",
        "df.iloc[row_filter, (column filter)]\n",
        "\n",
        "\n",
        "\n",
        "* Column filter is optional (not specifying a column will return ALL columns)\n",
        "*   Input integers, slices or integer lists\n",
        "*   Cannot input a boolean series\n",
        "\n",
        "\n",
        "\n",
        "\n",
        "\n"
      ],
      "metadata": {
        "id": "rxwJUVBTvhJz"
      }
    },
    {
      "cell_type": "code",
      "source": [
        "# returns all columns for 1st row\n",
        "hr.iloc[0, :]\n",
        "\n",
        "# reuturn all columns for last row\n",
        "hr.iloc[-1, :]\n",
        "\n",
        "# filter on the row and returning a single column\n",
        "hr.iloc[0,8]"
      ],
      "metadata": {
        "id": "zKYGvg-v1i-7"
      },
      "execution_count": null,
      "outputs": []
    },
    {
      "cell_type": "code",
      "source": [
        "#return all the rows from a column (Attrition)\n",
        "hr.iloc[:,0] # hr['Attrition]\n"
      ],
      "metadata": {
        "id": "DmESQEvu2ID0"
      },
      "execution_count": null,
      "outputs": []
    },
    {
      "cell_type": "code",
      "source": [
        "# return all the rows for Department, Education Field and Education\n",
        "# NOTE: passing through multiple columns will return a Dataframe\n",
        "# passing through a single column will return a series\n",
        "hr.iloc[:,[4,5,20]]"
      ],
      "metadata": {
        "id": "zM853cNws8In"
      },
      "execution_count": null,
      "outputs": []
    },
    {
      "cell_type": "code",
      "source": [
        "# return the first 5 rows for Department, Education Field and Education\n",
        "# slicing - starts at index 0, ends at last index -1 (4)\n",
        "hr.iloc[0:5,[4,5,20]]\n",
        "# hr.iloc[:5,[4,5,20]]"
      ],
      "metadata": {
        "id": "whg_yDEPtDWO"
      },
      "execution_count": null,
      "outputs": []
    },
    {
      "cell_type": "code",
      "source": [
        "# return the 'Job satisfication'(26) and 'Worklife balance' (36) for every other employee\n",
        "# the step = 2 (number of jumps)\n",
        "hr.iloc[::2,[26,36]]\n"
      ],
      "metadata": {
        "id": "YuunHSfIttR9"
      },
      "execution_count": null,
      "outputs": []
    },
    {
      "cell_type": "markdown",
      "source": [
        "\n",
        "\n",
        "df.loc[row_filter, (cloumns_filter)]\n",
        "\n",
        "\n",
        "*   Column filter is optional (not specifying a column filter will return ALL columns)\n",
        "*   Can input a boolean series\n",
        "\n",
        "*   Can input integers, slices, or interger to filter on the indices\n",
        "*   CANNOT input integers, slices, or integer lists to filter on the columns\n",
        "\n",
        "\n",
        "\n"
      ],
      "metadata": {
        "id": "t5Vr-P5jwMKM"
      }
    },
    {
      "cell_type": "code",
      "source": [
        "# Reurn all of the employees that are female"
      ],
      "metadata": {
        "id": "a87S6JQWvQP1"
      },
      "execution_count": null,
      "outputs": []
    },
    {
      "cell_type": "markdown",
      "source": [
        "Income Analysis"
      ],
      "metadata": {
        "id": "7X7-CqMT8_7T"
      }
    },
    {
      "cell_type": "markdown",
      "source": [
        "Education Analysis"
      ],
      "metadata": {
        "id": "YzqMwkHI_ubg"
      }
    },
    {
      "cell_type": "code",
      "source": [
        "# Different levels of Education\n",
        "Associates = hr['Education'].value_counts()[\"Associates Degree\"]\n",
        "print(f'The number of employees with a Associates degree is {Associates}')\n",
        "\n",
        "Bachelors = hr['Education'].value_counts()[\"Bachelor's Degree\"]\n",
        "print(f'The number of employees with a Bachelors degree is {Bachelors}')\n",
        "\n",
        "Masters = hr['Education'].value_counts()[\"Master's Degree\"]\n",
        "print(f'The number of employees with a Masters degree is {Masters}')\n",
        "\n",
        "Doctoral = hr['Education'].value_counts()[\"Doctoral Degree\"]\n",
        "print(f'The number of employees with a Doctoral degree is {Doctoral}')\n"
      ],
      "metadata": {
        "id": "J2HCalzg_tBw",
        "colab": {
          "base_uri": "https://localhost:8080/"
        },
        "outputId": "b4a8d9a7-be04-4b50-e933-d3227407fb79"
      },
      "execution_count": null,
      "outputs": [
        {
          "output_type": "stream",
          "name": "stdout",
          "text": [
            "The number of employees with a Associates degree is 282\n",
            "The number of employees with a Bachelors degree is 572\n",
            "The number of employees with a Masters degree is 398\n",
            "The number of employees with a Doctoral degree is 48\n"
          ]
        }
      ]
    },
    {
      "cell_type": "code",
      "source": [
        "# Field of Education\n",
        "Medical = hr['Education Field'].value_counts()[\"Medical\"]\n",
        "print(f'The number of employees with a Medical background is {Medical}')\n",
        "\n",
        "Life_Science = hr['Education Field'].value_counts()[\"Life Sciences\"]\n",
        "print(f'The number of employees with a Life Sciences background is {Life_Science}')\n",
        "\n",
        "Technical = hr['Education Field'].value_counts()[\"Technical Degree\"]\n",
        "print(f'The number of employees with a Technical background is {Technical}')"
      ],
      "metadata": {
        "id": "du-W-l1sD17m"
      },
      "execution_count": null,
      "outputs": []
    },
    {
      "cell_type": "markdown",
      "source": [
        "Income Ranges"
      ],
      "metadata": {
        "id": "-Sodi6PwpQT5"
      }
    },
    {
      "cell_type": "code",
      "source": [
        "# Monthly income\n",
        "\n",
        "print(hr[hr['Monthly Income'] < 5000 ])"
      ],
      "metadata": {
        "id": "9NbAHBY6pP93"
      },
      "execution_count": null,
      "outputs": []
    }
  ]
}